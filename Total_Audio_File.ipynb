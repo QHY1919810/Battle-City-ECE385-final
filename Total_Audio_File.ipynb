{
 "cells": [
  {
   "cell_type": "code",
   "execution_count": 1,
   "id": "14356b1f",
   "metadata": {},
   "outputs": [
    {
     "name": "stderr",
     "output_type": "stream",
     "text": [
      "<ipython-input-1-52c93e20c538>:9: WavFileWarning: Chunk (non-data) not understood, skipping it.\n",
      "  Fs, data = read(\"./Audio_Use/\"+name+\".wav\")\n"
     ]
    }
   ],
   "source": [
    "from scipy.io.wavfile import read\n",
    "import scipy.signal as sps\n",
    "\n",
    "filename = [\"camp_bomb\",\"enemy_bomb\",\"fail\",\"addlife\",\"bouns1000\",\"get-prop\",\"player_bomb\",\n",
    "           \"player_move\",\"shoot\",\"start\",\"猫中毒\"]\n",
    "outFile = open(\"./Audio_Use/TotalAudioFile.txt\", 'w')\n",
    "Addr=0\n",
    "for name in filename:\n",
    "    Fs, data = read(\"./Audio_Use/\"+name+\".wav\")\n",
    "    new_Fs = 8000 # new sampling rate\n",
    "    number_of_samples = round(len(data) * float(new_Fs) / Fs)\n",
    "    data = sps.resample(data, number_of_samples)\n",
    "    depth = data.shape[0] + 1\n",
    "    #print(data.shape[0])\n",
    "    #print(\"%X\"%data.shape[0])\n",
    "    outFile2 = open(\"./Audio_Use/\"+name+\"_length and Addr.txt\", 'w')\n",
    "    for i in range(data.shape[0]):\n",
    "        outFile.write(\"%02X\\n\" %(int(round(data[i,0]) & 0xff )))           \n",
    "    outFile2.write(\"Length: %d \\n\"%data.shape[0])\n",
    "    outFile2.write(\"Length (in hex): %X \\n\"%data.shape[0])\n",
    "    outFile2.write(\"Addr: %d to %d \\n\"%(Addr,Addr+data.shape[0]-1))\n",
    "    outFile2.write(\"Addr(In HEX): %X to %X \\n\"%(Addr,Addr+data.shape[0]-1))\n",
    "    Addr+=data.shape[0]\n",
    "    outFile2.close()\n",
    "outFile.close()"
   ]
  },
  {
   "cell_type": "code",
   "execution_count": 2,
   "id": "8f1341f5",
   "metadata": {},
   "outputs": [],
   "source": [
    "\n",
    "import struct\n",
    "fname = \"TotalAudioFile\"\n",
    "out = open(\"./Audio_Use/\" + fname + \".ram\", 'wb')\n",
    "f =  open(\"./Audio_Use/\" + fname + '.txt', 'r')\n",
    "for line in f:\n",
    "    hex = int(\"0x\" + str(line[0]) + str(line[1]), 16)\n",
    "    #print(hex)\n",
    "    val=(hex& 0x7f)-(hex& 0x80)\n",
    "    s = struct.pack('b', val)\n",
    "    out.write(s)\n",
    "f.close()\n",
    "out.close()"
   ]
  },
  {
   "cell_type": "code",
   "execution_count": null,
   "id": "810fcb55",
   "metadata": {},
   "outputs": [],
   "source": []
  }
 ],
 "metadata": {
  "kernelspec": {
   "display_name": "Python 3",
   "language": "python",
   "name": "python3"
  },
  "language_info": {
   "codemirror_mode": {
    "name": "ipython",
    "version": 3
   },
   "file_extension": ".py",
   "mimetype": "text/x-python",
   "name": "python",
   "nbconvert_exporter": "python",
   "pygments_lexer": "ipython3",
   "version": "3.8.8"
  }
 },
 "nbformat": 4,
 "nbformat_minor": 5
}
